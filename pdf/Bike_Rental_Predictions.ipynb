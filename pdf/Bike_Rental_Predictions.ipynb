{
 "cells": [
  {
   "cell_type": "markdown",
   "metadata": {},
   "source": [
    "# Bike Rental Data\n",
    "Source: https://www.kaggle.com/lakshmi25npathi/bike-sharing-dataset"
   ]
  },
  {
   "cell_type": "markdown",
   "metadata": {},
   "source": [
    "## Objective\n",
    "\n",
    "Predict bike rental usage on a daily and hourly basis using environmental and seasonal data, with a second analysis done with Google Trends sata added in."
   ]
  },
  {
   "cell_type": "markdown",
   "metadata": {},
   "source": [
    "## Exploratory Data Analysis"
   ]
  },
  {
   "cell_type": "markdown",
   "metadata": {},
   "source": [
    "### Import the Required Libraries"
   ]
  },
  {
   "cell_type": "code",
   "execution_count": 1,
   "metadata": {
    "_cell_guid": "b1076dfc-b9ad-4769-8c92-a6c4dae69d19",
    "_uuid": "8f2839f25d086af736a60e9eeb907d3b93b6e0e5"
   },
   "outputs": [],
   "source": [
    "import numpy as np \n",
    "import pandas as pd\n",
    "import matplotlib.pyplot as plt\n",
    "import math\n",
    "from scipy import stats\n",
    "import seaborn as sns\n",
    "import datetime as datetime\n",
    "from sklearn.model_selection import train_test_split\n",
    "from sklearn import preprocessing,metrics,linear_model\n",
    "from sklearn.model_selection import cross_val_score,cross_val_predict,train_test_split\n",
    "from sklearn.tree import DecisionTreeRegressor\n",
    "from sklearn.ensemble import RandomForestRegressor\n",
    "from treeinterpreter import treeinterpreter as ti\n",
    "import warnings\n",
    "warnings.filterwarnings('ignore')\n",
    "pd.options.display.max_columns = 50"
   ]
  },
  {
   "cell_type": "markdown",
   "metadata": {},
   "source": [
    "### Read the Training Data"
   ]
  },
  {
   "cell_type": "code",
   "execution_count": 2,
   "metadata": {
    "_cell_guid": "79c7e3d0-c299-4dcb-8224-4455121ee9b0",
    "_uuid": "d629ff2d2480ee46fbb7e2d37f6b5fab8052498a"
   },
   "outputs": [],
   "source": [
    "# Import the csv file\n",
    "df = pd.read_csv('hour.csv', names=['Index','Date','Season','Year','Month','Hour','Holiday','Weekday','Workingday','Weather','Temp_Celsius','Temp_Celsius_Norm','Humidity','Windspeed','Users_Casual','Users_Registered','Count'], header=None, skiprows=1)\n",
    "bike_share = pd.read_csv('Google_Trends_Bikeshare.csv', names=['Week', 'Popularity'], header=None, skiprows=1)\n",
    "\n",
    "# Create Weeknum Columns and Convert Year to 0/1\n",
    "df['Date'] = pd.to_datetime(df['Date'])\n",
    "df['Weeknum'] = df['Date'].dt.week\n",
    "bike_share['Week'] = pd.to_datetime(bike_share['Week'])\n",
    "bike_share['Weeknum'] = bike_share['Week'].dt.week\n",
    "bike_share['Year'] = bike_share['Week'].dt.year\n",
    "bike_share['Year'] = bike_share['Year'].apply(lambda x: 0 if x == 2011 else 1)\n",
    "\n",
    "# Merge in Google Trend Data to DataFrame\n",
    "df = df.merge(bike_share[['Weeknum', 'Year', 'Popularity']], how='left', on=['Weeknum', 'Year']).drop(['Weeknum'], axis=1)\n",
    "df = df.iloc[:,1:]\n",
    "df = df[['Date','Season','Year','Month','Hour','Holiday','Weekday','Workingday','Weather','Temp_Celsius','Temp_Celsius_Norm','Humidity','Windspeed','Popularity','Users_Casual','Users_Registered','Count']]"
   ]
  },
  {
   "cell_type": "markdown",
   "metadata": {},
   "source": [
    "### Data Sample"
   ]
  },
  {
   "cell_type": "code",
   "execution_count": 3,
   "metadata": {
    "scrolled": true
   },
   "outputs": [
    {
     "data": {
      "text/html": [
       "<div>\n",
       "<style scoped>\n",
       "    .dataframe tbody tr th:only-of-type {\n",
       "        vertical-align: middle;\n",
       "    }\n",
       "\n",
       "    .dataframe tbody tr th {\n",
       "        vertical-align: top;\n",
       "    }\n",
       "\n",
       "    .dataframe thead th {\n",
       "        text-align: right;\n",
       "    }\n",
       "</style>\n",
       "<table border=\"1\" class=\"dataframe\">\n",
       "  <thead>\n",
       "    <tr style=\"text-align: right;\">\n",
       "      <th></th>\n",
       "      <th>Date</th>\n",
       "      <th>Season</th>\n",
       "      <th>Year</th>\n",
       "      <th>Month</th>\n",
       "      <th>Hour</th>\n",
       "      <th>Holiday</th>\n",
       "      <th>Weekday</th>\n",
       "      <th>Workingday</th>\n",
       "      <th>Weather</th>\n",
       "      <th>Temp_Celsius</th>\n",
       "      <th>Temp_Celsius_Norm</th>\n",
       "      <th>Humidity</th>\n",
       "      <th>Windspeed</th>\n",
       "      <th>Popularity</th>\n",
       "      <th>Users_Casual</th>\n",
       "      <th>Users_Registered</th>\n",
       "      <th>Count</th>\n",
       "    </tr>\n",
       "  </thead>\n",
       "  <tbody>\n",
       "    <tr>\n",
       "      <th>0</th>\n",
       "      <td>2011-01-01</td>\n",
       "      <td>1</td>\n",
       "      <td>0</td>\n",
       "      <td>1</td>\n",
       "      <td>0</td>\n",
       "      <td>0</td>\n",
       "      <td>6</td>\n",
       "      <td>0</td>\n",
       "      <td>1</td>\n",
       "      <td>0.24</td>\n",
       "      <td>0.2879</td>\n",
       "      <td>0.81</td>\n",
       "      <td>0.0</td>\n",
       "      <td>47</td>\n",
       "      <td>3</td>\n",
       "      <td>13</td>\n",
       "      <td>16</td>\n",
       "    </tr>\n",
       "    <tr>\n",
       "      <th>1</th>\n",
       "      <td>2011-01-01</td>\n",
       "      <td>1</td>\n",
       "      <td>0</td>\n",
       "      <td>1</td>\n",
       "      <td>1</td>\n",
       "      <td>0</td>\n",
       "      <td>6</td>\n",
       "      <td>0</td>\n",
       "      <td>1</td>\n",
       "      <td>0.22</td>\n",
       "      <td>0.2727</td>\n",
       "      <td>0.80</td>\n",
       "      <td>0.0</td>\n",
       "      <td>47</td>\n",
       "      <td>8</td>\n",
       "      <td>32</td>\n",
       "      <td>40</td>\n",
       "    </tr>\n",
       "    <tr>\n",
       "      <th>2</th>\n",
       "      <td>2011-01-01</td>\n",
       "      <td>1</td>\n",
       "      <td>0</td>\n",
       "      <td>1</td>\n",
       "      <td>2</td>\n",
       "      <td>0</td>\n",
       "      <td>6</td>\n",
       "      <td>0</td>\n",
       "      <td>1</td>\n",
       "      <td>0.22</td>\n",
       "      <td>0.2727</td>\n",
       "      <td>0.80</td>\n",
       "      <td>0.0</td>\n",
       "      <td>47</td>\n",
       "      <td>5</td>\n",
       "      <td>27</td>\n",
       "      <td>32</td>\n",
       "    </tr>\n",
       "    <tr>\n",
       "      <th>3</th>\n",
       "      <td>2011-01-01</td>\n",
       "      <td>1</td>\n",
       "      <td>0</td>\n",
       "      <td>1</td>\n",
       "      <td>3</td>\n",
       "      <td>0</td>\n",
       "      <td>6</td>\n",
       "      <td>0</td>\n",
       "      <td>1</td>\n",
       "      <td>0.24</td>\n",
       "      <td>0.2879</td>\n",
       "      <td>0.75</td>\n",
       "      <td>0.0</td>\n",
       "      <td>47</td>\n",
       "      <td>3</td>\n",
       "      <td>10</td>\n",
       "      <td>13</td>\n",
       "    </tr>\n",
       "    <tr>\n",
       "      <th>4</th>\n",
       "      <td>2011-01-01</td>\n",
       "      <td>1</td>\n",
       "      <td>0</td>\n",
       "      <td>1</td>\n",
       "      <td>4</td>\n",
       "      <td>0</td>\n",
       "      <td>6</td>\n",
       "      <td>0</td>\n",
       "      <td>1</td>\n",
       "      <td>0.24</td>\n",
       "      <td>0.2879</td>\n",
       "      <td>0.75</td>\n",
       "      <td>0.0</td>\n",
       "      <td>47</td>\n",
       "      <td>0</td>\n",
       "      <td>1</td>\n",
       "      <td>1</td>\n",
       "    </tr>\n",
       "  </tbody>\n",
       "</table>\n",
       "</div>"
      ],
      "text/plain": [
       "        Date  Season  Year  Month  Hour  Holiday  Weekday  Workingday  \\\n",
       "0 2011-01-01       1     0      1     0        0        6           0   \n",
       "1 2011-01-01       1     0      1     1        0        6           0   \n",
       "2 2011-01-01       1     0      1     2        0        6           0   \n",
       "3 2011-01-01       1     0      1     3        0        6           0   \n",
       "4 2011-01-01       1     0      1     4        0        6           0   \n",
       "\n",
       "   Weather  Temp_Celsius  Temp_Celsius_Norm  Humidity  Windspeed  Popularity  \\\n",
       "0        1          0.24             0.2879      0.81        0.0          47   \n",
       "1        1          0.22             0.2727      0.80        0.0          47   \n",
       "2        1          0.22             0.2727      0.80        0.0          47   \n",
       "3        1          0.24             0.2879      0.75        0.0          47   \n",
       "4        1          0.24             0.2879      0.75        0.0          47   \n",
       "\n",
       "   Users_Casual  Users_Registered  Count  \n",
       "0             3                13     16  \n",
       "1             8                32     40  \n",
       "2             5                27     32  \n",
       "3             3                10     13  \n",
       "4             0                 1      1  "
      ]
     },
     "execution_count": 3,
     "metadata": {},
     "output_type": "execute_result"
    }
   ],
   "source": [
    "#Read the data\n",
    "df.head()"
   ]
  },
  {
   "cell_type": "markdown",
   "metadata": {},
   "source": [
    "### Shape of the Dataset"
   ]
  },
  {
   "cell_type": "code",
   "execution_count": 4,
   "metadata": {},
   "outputs": [
    {
     "name": "stdout",
     "output_type": "stream",
     "text": [
      "This dataset has 17569 rows and 17 columns\n"
     ]
    }
   ],
   "source": [
    "print('This dataset has ' + str(df.shape[0]) + ' rows and ' + str(df.shape[1]) + ' columns' )"
   ]
  },
  {
   "cell_type": "markdown",
   "metadata": {},
   "source": [
    "### Data Types by Column"
   ]
  },
  {
   "cell_type": "code",
   "execution_count": 5,
   "metadata": {},
   "outputs": [
    {
     "data": {
      "text/plain": [
       "Date                 datetime64[ns]\n",
       "Season                        int64\n",
       "Year                          int64\n",
       "Month                         int64\n",
       "Hour                          int64\n",
       "Holiday                       int64\n",
       "Weekday                       int64\n",
       "Workingday                    int64\n",
       "Weather                       int64\n",
       "Temp_Celsius                float64\n",
       "Temp_Celsius_Norm           float64\n",
       "Humidity                    float64\n",
       "Windspeed                   float64\n",
       "Popularity                    int64\n",
       "Users_Casual                  int64\n",
       "Users_Registered              int64\n",
       "Count                         int64\n",
       "dtype: object"
      ]
     },
     "execution_count": 5,
     "metadata": {},
     "output_type": "execute_result"
    }
   ],
   "source": [
    "df.dtypes"
   ]
  },
  {
   "cell_type": "markdown",
   "metadata": {},
   "source": [
    "### Summary Statistics"
   ]
  },
  {
   "cell_type": "code",
   "execution_count": 6,
   "metadata": {},
   "outputs": [
    {
     "data": {
      "text/html": [
       "<div>\n",
       "<style scoped>\n",
       "    .dataframe tbody tr th:only-of-type {\n",
       "        vertical-align: middle;\n",
       "    }\n",
       "\n",
       "    .dataframe tbody tr th {\n",
       "        vertical-align: top;\n",
       "    }\n",
       "\n",
       "    .dataframe thead th {\n",
       "        text-align: right;\n",
       "    }\n",
       "</style>\n",
       "<table border=\"1\" class=\"dataframe\">\n",
       "  <thead>\n",
       "    <tr style=\"text-align: right;\">\n",
       "      <th></th>\n",
       "      <th>Season</th>\n",
       "      <th>Year</th>\n",
       "      <th>Month</th>\n",
       "      <th>Hour</th>\n",
       "      <th>Holiday</th>\n",
       "      <th>Weekday</th>\n",
       "      <th>Workingday</th>\n",
       "      <th>Weather</th>\n",
       "      <th>Temp_Celsius</th>\n",
       "      <th>Temp_Celsius_Norm</th>\n",
       "      <th>Humidity</th>\n",
       "      <th>Windspeed</th>\n",
       "      <th>Popularity</th>\n",
       "      <th>Users_Casual</th>\n",
       "      <th>Users_Registered</th>\n",
       "      <th>Count</th>\n",
       "    </tr>\n",
       "  </thead>\n",
       "  <tbody>\n",
       "    <tr>\n",
       "      <th>count</th>\n",
       "      <td>17569.000000</td>\n",
       "      <td>17569.000000</td>\n",
       "      <td>17569.000000</td>\n",
       "      <td>17569.000000</td>\n",
       "      <td>17569.000000</td>\n",
       "      <td>17569.000000</td>\n",
       "      <td>17569.000000</td>\n",
       "      <td>17569.000000</td>\n",
       "      <td>17569.000000</td>\n",
       "      <td>17569.000000</td>\n",
       "      <td>17569.000000</td>\n",
       "      <td>17569.000000</td>\n",
       "      <td>17569.000000</td>\n",
       "      <td>17569.000000</td>\n",
       "      <td>17569.000000</td>\n",
       "      <td>17569.000000</td>\n",
       "    </tr>\n",
       "    <tr>\n",
       "      <th>mean</th>\n",
       "      <td>2.485400</td>\n",
       "      <td>0.507940</td>\n",
       "      <td>6.581820</td>\n",
       "      <td>11.547157</td>\n",
       "      <td>0.029768</td>\n",
       "      <td>2.999715</td>\n",
       "      <td>0.680744</td>\n",
       "      <td>1.429507</td>\n",
       "      <td>0.494523</td>\n",
       "      <td>0.473474</td>\n",
       "      <td>0.627901</td>\n",
       "      <td>0.190398</td>\n",
       "      <td>50.144061</td>\n",
       "      <td>35.445387</td>\n",
       "      <td>152.709488</td>\n",
       "      <td>188.154875</td>\n",
       "    </tr>\n",
       "    <tr>\n",
       "      <th>std</th>\n",
       "      <td>1.111818</td>\n",
       "      <td>0.499951</td>\n",
       "      <td>3.466866</td>\n",
       "      <td>6.914350</td>\n",
       "      <td>0.169952</td>\n",
       "      <td>2.007457</td>\n",
       "      <td>0.466201</td>\n",
       "      <td>0.641470</td>\n",
       "      <td>0.193051</td>\n",
       "      <td>0.172447</td>\n",
       "      <td>0.192690</td>\n",
       "      <td>0.122688</td>\n",
       "      <td>17.334493</td>\n",
       "      <td>49.138541</td>\n",
       "      <td>150.989145</td>\n",
       "      <td>180.976371</td>\n",
       "    </tr>\n",
       "    <tr>\n",
       "      <th>min</th>\n",
       "      <td>1.000000</td>\n",
       "      <td>0.000000</td>\n",
       "      <td>1.000000</td>\n",
       "      <td>0.000000</td>\n",
       "      <td>0.000000</td>\n",
       "      <td>0.000000</td>\n",
       "      <td>0.000000</td>\n",
       "      <td>1.000000</td>\n",
       "      <td>0.020000</td>\n",
       "      <td>0.000000</td>\n",
       "      <td>0.000000</td>\n",
       "      <td>0.000000</td>\n",
       "      <td>19.000000</td>\n",
       "      <td>0.000000</td>\n",
       "      <td>0.000000</td>\n",
       "      <td>1.000000</td>\n",
       "    </tr>\n",
       "    <tr>\n",
       "      <th>25%</th>\n",
       "      <td>1.000000</td>\n",
       "      <td>0.000000</td>\n",
       "      <td>4.000000</td>\n",
       "      <td>6.000000</td>\n",
       "      <td>0.000000</td>\n",
       "      <td>1.000000</td>\n",
       "      <td>0.000000</td>\n",
       "      <td>1.000000</td>\n",
       "      <td>0.340000</td>\n",
       "      <td>0.333300</td>\n",
       "      <td>0.480000</td>\n",
       "      <td>0.104500</td>\n",
       "      <td>36.000000</td>\n",
       "      <td>4.000000</td>\n",
       "      <td>33.000000</td>\n",
       "      <td>39.000000</td>\n",
       "    </tr>\n",
       "    <tr>\n",
       "      <th>50%</th>\n",
       "      <td>2.000000</td>\n",
       "      <td>1.000000</td>\n",
       "      <td>7.000000</td>\n",
       "      <td>12.000000</td>\n",
       "      <td>0.000000</td>\n",
       "      <td>3.000000</td>\n",
       "      <td>1.000000</td>\n",
       "      <td>1.000000</td>\n",
       "      <td>0.500000</td>\n",
       "      <td>0.484800</td>\n",
       "      <td>0.630000</td>\n",
       "      <td>0.194000</td>\n",
       "      <td>50.000000</td>\n",
       "      <td>16.000000</td>\n",
       "      <td>114.000000</td>\n",
       "      <td>140.000000</td>\n",
       "    </tr>\n",
       "    <tr>\n",
       "      <th>75%</th>\n",
       "      <td>3.000000</td>\n",
       "      <td>1.000000</td>\n",
       "      <td>10.000000</td>\n",
       "      <td>18.000000</td>\n",
       "      <td>0.000000</td>\n",
       "      <td>5.000000</td>\n",
       "      <td>1.000000</td>\n",
       "      <td>2.000000</td>\n",
       "      <td>0.660000</td>\n",
       "      <td>0.621200</td>\n",
       "      <td>0.780000</td>\n",
       "      <td>0.253700</td>\n",
       "      <td>61.000000</td>\n",
       "      <td>48.000000</td>\n",
       "      <td>219.000000</td>\n",
       "      <td>279.000000</td>\n",
       "    </tr>\n",
       "    <tr>\n",
       "      <th>max</th>\n",
       "      <td>4.000000</td>\n",
       "      <td>1.000000</td>\n",
       "      <td>12.000000</td>\n",
       "      <td>23.000000</td>\n",
       "      <td>1.000000</td>\n",
       "      <td>6.000000</td>\n",
       "      <td>1.000000</td>\n",
       "      <td>4.000000</td>\n",
       "      <td>1.000000</td>\n",
       "      <td>1.000000</td>\n",
       "      <td>1.000000</td>\n",
       "      <td>0.850700</td>\n",
       "      <td>100.000000</td>\n",
       "      <td>367.000000</td>\n",
       "      <td>886.000000</td>\n",
       "      <td>977.000000</td>\n",
       "    </tr>\n",
       "  </tbody>\n",
       "</table>\n",
       "</div>"
      ],
      "text/plain": [
       "             Season          Year         Month          Hour       Holiday  \\\n",
       "count  17569.000000  17569.000000  17569.000000  17569.000000  17569.000000   \n",
       "mean       2.485400      0.507940      6.581820     11.547157      0.029768   \n",
       "std        1.111818      0.499951      3.466866      6.914350      0.169952   \n",
       "min        1.000000      0.000000      1.000000      0.000000      0.000000   \n",
       "25%        1.000000      0.000000      4.000000      6.000000      0.000000   \n",
       "50%        2.000000      1.000000      7.000000     12.000000      0.000000   \n",
       "75%        3.000000      1.000000     10.000000     18.000000      0.000000   \n",
       "max        4.000000      1.000000     12.000000     23.000000      1.000000   \n",
       "\n",
       "            Weekday    Workingday       Weather  Temp_Celsius  \\\n",
       "count  17569.000000  17569.000000  17569.000000  17569.000000   \n",
       "mean       2.999715      0.680744      1.429507      0.494523   \n",
       "std        2.007457      0.466201      0.641470      0.193051   \n",
       "min        0.000000      0.000000      1.000000      0.020000   \n",
       "25%        1.000000      0.000000      1.000000      0.340000   \n",
       "50%        3.000000      1.000000      1.000000      0.500000   \n",
       "75%        5.000000      1.000000      2.000000      0.660000   \n",
       "max        6.000000      1.000000      4.000000      1.000000   \n",
       "\n",
       "       Temp_Celsius_Norm      Humidity     Windspeed    Popularity  \\\n",
       "count       17569.000000  17569.000000  17569.000000  17569.000000   \n",
       "mean            0.473474      0.627901      0.190398     50.144061   \n",
       "std             0.172447      0.192690      0.122688     17.334493   \n",
       "min             0.000000      0.000000      0.000000     19.000000   \n",
       "25%             0.333300      0.480000      0.104500     36.000000   \n",
       "50%             0.484800      0.630000      0.194000     50.000000   \n",
       "75%             0.621200      0.780000      0.253700     61.000000   \n",
       "max             1.000000      1.000000      0.850700    100.000000   \n",
       "\n",
       "       Users_Casual  Users_Registered         Count  \n",
       "count  17569.000000      17569.000000  17569.000000  \n",
       "mean      35.445387        152.709488    188.154875  \n",
       "std       49.138541        150.989145    180.976371  \n",
       "min        0.000000          0.000000      1.000000  \n",
       "25%        4.000000         33.000000     39.000000  \n",
       "50%       16.000000        114.000000    140.000000  \n",
       "75%       48.000000        219.000000    279.000000  \n",
       "max      367.000000        886.000000    977.000000  "
      ]
     },
     "execution_count": 6,
     "metadata": {},
     "output_type": "execute_result"
    }
   ],
   "source": [
    "df.describe()"
   ]
  },
  {
   "cell_type": "markdown",
   "metadata": {},
   "source": [
    "### Check for Missing Values\n",
    "No missing values present in the dataset."
   ]
  },
  {
   "cell_type": "code",
   "execution_count": 7,
   "metadata": {},
   "outputs": [
    {
     "data": {
      "text/plain": [
       "Date                 0\n",
       "Season               0\n",
       "Year                 0\n",
       "Month                0\n",
       "Hour                 0\n",
       "Holiday              0\n",
       "Weekday              0\n",
       "Workingday           0\n",
       "Weather              0\n",
       "Temp_Celsius         0\n",
       "Temp_Celsius_Norm    0\n",
       "Humidity             0\n",
       "Windspeed            0\n",
       "Popularity           0\n",
       "Users_Casual         0\n",
       "Users_Registered     0\n",
       "Count                0\n",
       "dtype: int64"
      ]
     },
     "execution_count": 7,
     "metadata": {},
     "output_type": "execute_result"
    }
   ],
   "source": [
    "df.isnull().sum()"
   ]
  },
  {
   "cell_type": "markdown",
   "metadata": {},
   "source": [
    "## Outlier analysis\n",
    "Outliers are defined as being above or below mean +/- 3.3 Standard Deviations"
   ]
  },
  {
   "cell_type": "code",
   "execution_count": 8,
   "metadata": {},
   "outputs": [
    {
     "name": "stdout",
     "output_type": "stream",
     "text": [
      "Temp_Celsius has 0 outliers\n",
      "Temp_Celsius_Norm has 0 outliers\n",
      "Windspeed has 64 outliers\n",
      "Humidity has 0 outliers\n",
      "Popularity has 0 outliers\n",
      "Users_Casual has 368 outliers\n",
      "Users_Registered has 277 outliers\n",
      "Count has 166 outliers\n"
     ]
    }
   ],
   "source": [
    "for column in ['Temp_Celsius', 'Temp_Celsius_Norm', 'Windspeed', 'Humidity', 'Popularity', 'Users_Casual', 'Users_Registered', 'Count']:\n",
    "    mean = np.mean(df[[column]])\n",
    "    std = np.std(df[[column]])\n",
    "    Upper_Bound = mean + (std * 3.3)\n",
    "    Lower_Bound = mean - (std * 3.3)\n",
    "    try:\n",
    "        Upper_Outlier_Count = len(df[df[column] < float(Lower_Bound)])\n",
    "    except:\n",
    "        Upper_Outlier_Count = 0\n",
    "    try:\n",
    "        Lower_Outlier_Count = len(df[df[column] > float(Upper_Bound)])\n",
    "    except:\n",
    "        Lower_Outlier_Count = 0\n",
    "    print(column + ' has ' + str(Upper_Outlier_Count + Lower_Outlier_Count) + ' outliers')"
   ]
  },
  {
   "cell_type": "markdown",
   "metadata": {},
   "source": [
    "### Columns with Outliers are Normalized with Cube Root Transformation"
   ]
  },
  {
   "cell_type": "code",
   "execution_count": 9,
   "metadata": {},
   "outputs": [],
   "source": [
    "df['Windspeed'] = df[['Windspeed']]**(1/3)\n",
    "df['Users_Casual'] = df[['Users_Casual']]**(1/3)\n",
    "df['Users_Registered'] = df[['Users_Registered']]**(1/3)\n",
    "df['Count'] = df[['Count']]**(1/3)"
   ]
  },
  {
   "cell_type": "markdown",
   "metadata": {},
   "source": [
    "### Dataset No Longer Has Outliers"
   ]
  },
  {
   "cell_type": "code",
   "execution_count": 10,
   "metadata": {},
   "outputs": [
    {
     "name": "stdout",
     "output_type": "stream",
     "text": [
      "Temp_Celsius has 0 outliers\n",
      "Temp_Celsius_Norm has 0 outliers\n",
      "Windspeed has 0 outliers\n",
      "Humidity has 0 outliers\n",
      "Popularity has 0 outliers\n",
      "Users_Casual has 0 outliers\n",
      "Users_Registered has 0 outliers\n",
      "Count has 0 outliers\n"
     ]
    }
   ],
   "source": [
    "for column in ['Temp_Celsius', 'Temp_Celsius_Norm', 'Windspeed', 'Humidity', 'Popularity', 'Users_Casual', 'Users_Registered', 'Count']:\n",
    "    mean = np.mean(df[[column]])\n",
    "    std = np.std(df[[column]])\n",
    "    Upper_Bound = mean + (std * 3.3)\n",
    "    Lower_Bound = mean - (std * 3.3)\n",
    "    try:\n",
    "        Upper_Outlier_Count = len(df[df[column] < float(Lower_Bound)])\n",
    "    except:\n",
    "        Upper_Outlier_Count = 0\n",
    "    try:\n",
    "        Lower_Outlier_Count = len(df[df[column] > float(Upper_Bound)])\n",
    "    except:\n",
    "        Lower_Outlier_Count = 0\n",
    "    print(column + ' has ' + str(Upper_Outlier_Count + Lower_Outlier_Count) + ' outliers')"
   ]
  },
  {
   "cell_type": "markdown",
   "metadata": {},
   "source": [
    "### Correlation matrix\n",
    "The Correlation Matrix tells about direct linear relationship (or overlap) between variables. 0 means there is no overlap, 1 means perfect overlap, and -1 means a perfect inverse relationship.\n",
    "\n",
    "Because Users_Causal + Users_Registered = Count, the correlation with Count is very high, so they will be excluded in the analysis."
   ]
  },
  {
   "cell_type": "code",
   "execution_count": 11,
   "metadata": {},
   "outputs": [
    {
     "data": {
      "image/png": "[encoded data removed]",
      "text/plain": [
       "<Figure size 1080x576 with 2 Axes>"
      ]
     },
     "metadata": {},
     "output_type": "display_data"
    }
   ],
   "source": [
    "#Create the correlation matrix\n",
    "corr_matrix=df[['Temp_Celsius', 'Temp_Celsius_Norm', 'Windspeed', 'Humidity', 'Popularity', 'Users_Casual', 'Users_Registered', 'Count']].corr()\n",
    "mask=np.array(corr_matrix)\n",
    "mask[np.tril_indices_from(mask)]=False\n",
    "#Heat map for correlation matrix of attributes\n",
    "fig,ax=plt.subplots(figsize=(15,8))\n",
    "sns.heatmap(corr_matrix,mask=mask,vmax=0.8,square=True,annot=True,ax=ax)\n",
    "ax.set_title('Correlation matrix of attributes')\n",
    "plt.show()"
   ]
  },
  {
   "cell_type": "markdown",
   "metadata": {},
   "source": [
    "### Modelling the dataset\n",
    "2/3 of the dataset is assigned as training data and the rest (1/3) becomes test data for validating the model."
   ]
  },
  {
   "cell_type": "code",
   "execution_count": 12,
   "metadata": {},
   "outputs": [
    {
     "name": "stdout",
     "output_type": "stream",
     "text": [
      "(11771, 15) (5798, 15) (11771,) (5798,)\n"
     ]
    }
   ],
   "source": [
    "#Split the dataset into the train and test data\n",
    "X_train,X_test,y_train,y_test=train_test_split(df.iloc[:,0:-3],df.iloc[:,-1],test_size=0.33, random_state=3)\n",
    "\n",
    "#Reset train index values\n",
    "X_train.reset_index(inplace=True)\n",
    "y_train=y_train.reset_index()\n",
    "y_train= y_train['Count']\n",
    "\n",
    "# Reset train index values\n",
    "X_test.reset_index(inplace=True)\n",
    "y_test=y_test.reset_index()\n",
    "y_test= y_test['Count']\n",
    "\n",
    "print(X_train.shape,X_test.shape,y_train.shape,y_test.shape)"
   ]
  },
  {
   "cell_type": "markdown",
   "metadata": {},
   "source": [
    "### Split the features into categorical and numerical features"
   ]
  },
  {
   "cell_type": "code",
   "execution_count": 13,
   "metadata": {},
   "outputs": [],
   "source": [
    "#Create a new dataset for train attributes\n",
    "train_attributes=X_train[['Season','Hour','Month','Year','Weekday','Holiday','Workingday','Weather','Humidity','Temp_Celsius','Windspeed','Popularity']]\n",
    "#Create a new dataset for test attributes\n",
    "test_attributes=X_test[['Season','Hour','Month','Year','Weekday','Holiday','Workingday','Weather','Humidity','Temp_Celsius','Windspeed','Popularity']]\n",
    "#categorical attributes\n",
    "cat_attributes=['Season','Holiday','Workingday','Weather','Year','Month','Weekday', 'Hour']\n",
    "#numerical attributes\n",
    "num_attributes=['Temp_Celsius','Windspeed','Humidity','Popularity']"
   ]
  },
  {
   "cell_type": "markdown",
   "metadata": {},
   "source": [
    "### One-Hot Encode Categorical Attributes\n",
    "Categorical variables are converted into new columns that are binary as 0 or 1."
   ]
  },
  {
   "cell_type": "code",
   "execution_count": 14,
   "metadata": {},
   "outputs": [],
   "source": [
    "#To get dummy variables to encode the categorical features to numeric\n",
    "train_encoded_attributes=pd.get_dummies(train_attributes,columns=cat_attributes)\n",
    "test_encoded_attributes=pd.get_dummies(test_attributes,columns=cat_attributes)"
   ]
  },
  {
   "cell_type": "markdown",
   "metadata": {},
   "source": [
    "## Training dataset"
   ]
  },
  {
   "cell_type": "markdown",
   "metadata": {},
   "source": [
    "### Rename the Columns for Easier Interpretation"
   ]
  },
  {
   "cell_type": "code",
   "execution_count": 15,
   "metadata": {},
   "outputs": [],
   "source": [
    "#Rename the columns\n",
    "cols= {\n",
    "    'Season_1':'Spring',\n",
    "    'Season_2':'Summer',\n",
    "    'Season_3':'Fall',\n",
    "    'Season_4':'Winter',\n",
    "    'Holiday_0':'Holiday_True',\n",
    "    'Holiday_1':'Holiday_False',\n",
    "    'Holiday_1':'Holiday_True',\n",
    "    'Workingday_0':'Workingday_False',\n",
    "    'Workingday_1':'Workingday_True',\n",
    "    'Weather_1':'Few_Clouds',\n",
    "    'Weather_2':'Mist',\n",
    "    'Weather_3':'Light_Rain_Snow',\n",
    "    'Weather_4':'Heavy_Rain_Snow',\n",
    "    'Year_0':'Year_2011',\n",
    "    'Year_1':'Year_2012',\n",
    "    'Month_1':'January',\n",
    "    'Month_2':'February',\n",
    "    'Month_3':'March',\n",
    "    'Month_4':'April',\n",
    "    'Month_5':'May',\n",
    "    'Month_6':'June',\n",
    "    'Month_7':'July',\n",
    "    'Month_8':'August',\n",
    "    'Month_9':'September',\n",
    "    'Month_10':'October',\n",
    "    'Month_11':'November',\n",
    "    'Month_12':'December',\n",
    "    'Weekday_0':'Sunday',\n",
    "    'Weekday_1':'Monday',\n",
    "    'Weekday_2':'Tuesday',\n",
    "    'Weekday_3':'Wednesday',\n",
    "    'Weekday_4':'Thursday',\n",
    "    'Weekday_5':'Friday',\n",
    "    'Weekday_6':'Saturday',\n",
    "    'Hour_0':'0000',\n",
    "    'Hour_1':'0100',\n",
    "    'Hour_2':'0200',\n",
    "    'Hour_3':'0300',\n",
    "    'Hour_4':'0400',\n",
    "    'Hour_5':'0500',\n",
    "    'Hour_6':'0600',\n",
    "    'Hour_7':'0700',\n",
    "    'Hour_8':'0800',\n",
    "    'Hour_9':'0900',\n",
    "    'Hour_10':'1000',\n",
    "    'Hour_11':'1100',\n",
    "    'Hour_12':'1200',\n",
    "    'Hour_13':'1300',\n",
    "    'Hour_14':'1400',\n",
    "    'Hour_15':'1500',\n",
    "    'Hour_16':'1600',\n",
    "    'Hour_17':'1700',\n",
    "    'Hour_18':'1800',\n",
    "    'Hour_19':'1900',\n",
    "    'Hour_20':'2000',\n",
    "    'Hour_21':'2100',\n",
    "    'Hour_22':'2200',\n",
    "    'Hour_23':'2300'\n",
    "}\n",
    "\n",
    "\n",
    "train_encoded_attributes.rename(columns=cols, inplace=True)\n",
    "\n",
    "test_encoded_attributes.rename(columns=cols, inplace=True)"
   ]
  },
  {
   "cell_type": "code",
   "execution_count": 16,
   "metadata": {},
   "outputs": [],
   "source": [
    "#Training dataset for modelling\n",
    "X_train=train_encoded_attributes"
   ]
  },
  {
   "cell_type": "markdown",
   "metadata": {},
   "source": [
    "## Linear Regression Model"
   ]
  },
  {
   "cell_type": "code",
   "execution_count": 17,
   "metadata": {},
   "outputs": [],
   "source": [
    "#training model\n",
    "lr_model=linear_model.LinearRegression()"
   ]
  },
  {
   "cell_type": "markdown",
   "metadata": {},
   "source": [
    "### Fit the Model to Training Data"
   ]
  },
  {
   "cell_type": "code",
   "execution_count": 18,
   "metadata": {},
   "outputs": [
    {
     "data": {
      "text/plain": [
       "LinearRegression(copy_X=True, fit_intercept=True, n_jobs=1, normalize=False)"
      ]
     },
     "execution_count": 18,
     "metadata": {},
     "output_type": "execute_result"
    }
   ],
   "source": [
    "#fit the trained model\n",
    "lr_model.fit(X_train,y_train)"
   ]
  },
  {
   "cell_type": "markdown",
   "metadata": {},
   "source": [
    "### Linear Regression Model Accuracy\n",
    "The model is approximately 81% Accurate"
   ]
  },
  {
   "cell_type": "code",
   "execution_count": 19,
   "metadata": {},
   "outputs": [
    {
     "name": "stdout",
     "output_type": "stream",
     "text": [
      "Accuracy of the model : 0.8103451260082234\n"
     ]
    }
   ],
   "source": [
    "#Accuracy of the model\n",
    "lr=lr_model.score(X_train,y_train)\n",
    "print('Accuracy of the model :',lr)"
   ]
  },
  {
   "cell_type": "markdown",
   "metadata": {},
   "source": [
    "## Linear Regression Evalution Metrics"
   ]
  },
  {
   "cell_type": "markdown",
   "metadata": {},
   "source": [
    "### Linear Regression R-squared"
   ]
  },
  {
   "cell_type": "markdown",
   "metadata": {},
   "source": [
    "The R-squared is 0.81 on average for a 3-Fold Cross Validation. This means that the model is only able to predict 81% of the variance for the target variable."
   ]
  },
  {
   "cell_type": "code",
   "execution_count": 20,
   "metadata": {},
   "outputs": [
    {
     "name": "stdout",
     "output_type": "stream",
     "text": [
      "R-squared scores : 0.8080060298039526\n"
     ]
    }
   ],
   "source": [
    "r2_scores = cross_val_score(lr_model, X_train, y_train, cv=10)\n",
    "print('R-squared scores :',np.average(r2_scores))"
   ]
  },
  {
   "cell_type": "markdown",
   "metadata": {},
   "source": [
    "## Model Performance on Test Data"
   ]
  },
  {
   "cell_type": "code",
   "execution_count": 21,
   "metadata": {},
   "outputs": [],
   "source": [
    "#Test dataset for prediction\n",
    "X_test=test_encoded_attributes"
   ]
  },
  {
   "cell_type": "markdown",
   "metadata": {},
   "source": [
    "### Predict the Test Data"
   ]
  },
  {
   "cell_type": "code",
   "execution_count": 22,
   "metadata": {},
   "outputs": [],
   "source": [
    "#predict the model\n",
    "lr_pred=lr_model.predict(X_test)"
   ]
  },
  {
   "cell_type": "markdown",
   "metadata": {},
   "source": [
    "### Root Mean Square Error and Mean Absolute Error Scores\n",
    "This means that on average, the predicted value is about 0.7 away from the true value"
   ]
  },
  {
   "cell_type": "code",
   "execution_count": 23,
   "metadata": {},
   "outputs": [
    {
     "name": "stdout",
     "output_type": "stream",
     "text": [
      "Root Mean Square Error : 0.888715764266583\n",
      "Mean Absolute Error : 0.6952937689301303\n"
     ]
    }
   ],
   "source": [
    "#Root mean square error \n",
    "rmse=math.sqrt(metrics.mean_squared_error(y_test,lr_pred))\n",
    "#Mean absolute error\n",
    "mae=metrics.mean_absolute_error(y_test,lr_pred)\n",
    "print('Root Mean Square Error :',rmse)\n",
    "print('Mean Absolute Error :',mae)"
   ]
  },
  {
   "cell_type": "markdown",
   "metadata": {},
   "source": [
    "## Decision Tree Regressor"
   ]
  },
  {
   "cell_type": "code",
   "execution_count": 24,
   "metadata": {},
   "outputs": [],
   "source": [
    "#training the model\n",
    "dtr=DecisionTreeRegressor(min_samples_split=2,max_leaf_nodes=50)"
   ]
  },
  {
   "cell_type": "markdown",
   "metadata": {},
   "source": [
    "### Fit the Model to Training Data"
   ]
  },
  {
   "cell_type": "code",
   "execution_count": 25,
   "metadata": {},
   "outputs": [
    {
     "data": {
      "text/plain": [
       "DecisionTreeRegressor(criterion='mse', max_depth=None, max_features=None,\n",
       "           max_leaf_nodes=50, min_impurity_decrease=0.0,\n",
       "           min_impurity_split=None, min_samples_leaf=1,\n",
       "           min_samples_split=2, min_weight_fraction_leaf=0.0,\n",
       "           presort=False, random_state=None, splitter='best')"
      ]
     },
     "execution_count": 25,
     "metadata": {},
     "output_type": "execute_result"
    }
   ],
   "source": [
    "#Fit the trained model\n",
    "dtr.fit(X_train,y_train)"
   ]
  },
  {
   "cell_type": "markdown",
   "metadata": {},
   "source": [
    "### Decision Tree Regression Accuracy\n",
    "The Decision Tree is approximately 77% Accurate, making it underperform the Linear Regression"
   ]
  },
  {
   "cell_type": "code",
   "execution_count": 26,
   "metadata": {},
   "outputs": [
    {
     "name": "stdout",
     "output_type": "stream",
     "text": [
      "Accuracy of Model : 0.7690975445229152\n"
     ]
    }
   ],
   "source": [
    "#Accuracy score of the model\n",
    "dtr_score=dtr.score(X_train,y_train)\n",
    "print('Accuracy of Model :',dtr_score)"
   ]
  },
  {
   "cell_type": "markdown",
   "metadata": {},
   "source": [
    "## Model Evalution Metrics"
   ]
  },
  {
   "cell_type": "markdown",
   "metadata": {},
   "source": [
    "### Decision Tree Regressor R-squared"
   ]
  },
  {
   "cell_type": "markdown",
   "metadata": {},
   "source": [
    "The R-squared or coefficient of determination is 0.76 on average for 10-fold cross validation, predicting about 75% of the variance, again underperforming the linear regression model."
   ]
  },
  {
   "cell_type": "code",
   "execution_count": 27,
   "metadata": {},
   "outputs": [
    {
     "name": "stdout",
     "output_type": "stream",
     "text": [
      "R-Squared Scores : 0.7604612717333206\n"
     ]
    }
   ],
   "source": [
    "#R-squared scores\n",
    "r2_scores = cross_val_score(dtr, X_train, y_train, cv=10)\n",
    "print('R-Squared Scores :',np.average(r2_scores))"
   ]
  },
  {
   "cell_type": "markdown",
   "metadata": {},
   "source": [
    "## Model Performance on Test Data"
   ]
  },
  {
   "cell_type": "code",
   "execution_count": 28,
   "metadata": {},
   "outputs": [],
   "source": [
    "#predict the model\n",
    "dtr_pred=dtr.predict(X_test)"
   ]
  },
  {
   "cell_type": "markdown",
   "metadata": {},
   "source": [
    "### Root Mean Square Error and Mean Absolute Error Scores"
   ]
  },
  {
   "cell_type": "code",
   "execution_count": 29,
   "metadata": {},
   "outputs": [
    {
     "name": "stdout",
     "output_type": "stream",
     "text": [
      "Root Mean Square Error : 0.9805139178792214\n",
      "Mean Absolute Error : 0.7603413782851554\n"
     ]
    }
   ],
   "source": [
    "#Root mean square error\n",
    "rmse=math.sqrt(metrics.mean_squared_error(y_test,dtr_pred))\n",
    "#Mean absolute error\n",
    "mae=metrics.mean_absolute_error(y_test,dtr_pred)\n",
    "print('Root Mean Square Error :',rmse)\n",
    "print('Mean Absolute Error :',mae)"
   ]
  },
  {
   "cell_type": "markdown",
   "metadata": {},
   "source": [
    "## Random Forest"
   ]
  },
  {
   "cell_type": "code",
   "execution_count": 30,
   "metadata": {},
   "outputs": [],
   "source": [
    "#Training the model\n",
    "X_train=train_encoded_attributes\n",
    "rf=RandomForestRegressor(n_estimators=200)"
   ]
  },
  {
   "cell_type": "markdown",
   "metadata": {},
   "source": [
    "### Fit the Model to Training Data"
   ]
  },
  {
   "cell_type": "code",
   "execution_count": 31,
   "metadata": {},
   "outputs": [
    {
     "data": {
      "text/plain": [
       "RandomForestRegressor(bootstrap=True, criterion='mse', max_depth=None,\n",
       "           max_features='auto', max_leaf_nodes=None,\n",
       "           min_impurity_decrease=0.0, min_impurity_split=None,\n",
       "           min_samples_leaf=1, min_samples_split=2,\n",
       "           min_weight_fraction_leaf=0.0, n_estimators=200, n_jobs=1,\n",
       "           oob_score=False, random_state=None, verbose=0, warm_start=False)"
      ]
     },
     "execution_count": 31,
     "metadata": {},
     "output_type": "execute_result"
    }
   ],
   "source": [
    "#Fit the trained model\n",
    "rf.fit(X_train,y_train)"
   ]
  },
  {
   "cell_type": "markdown",
   "metadata": {},
   "source": [
    "### Random Forest Accuracy\n",
    "The Random Forest Regressor has a incredibly high 99.3% Accuracy score, which brings up the concern that it might be overfit."
   ]
  },
  {
   "cell_type": "code",
   "execution_count": 32,
   "metadata": {},
   "outputs": [
    {
     "name": "stdout",
     "output_type": "stream",
     "text": [
      "Accuracy of the Model : 0.9926633045790223\n"
     ]
    }
   ],
   "source": [
    "#accuracy of the model\n",
    "rf_score =rf.score(X_train,y_train)\n",
    "print('Accuracy of the Model :',rf_score)"
   ]
  },
  {
   "cell_type": "markdown",
   "metadata": {},
   "source": [
    "### Random Forest Regressor R-Squared\n",
    "The very high 0.94 R-Squared alleviates the concern of overfitting, because it was averaged over 10 different folds of data and still able to predict all but 6% of the variance in the data."
   ]
  },
  {
   "cell_type": "code",
   "execution_count": 33,
   "metadata": {},
   "outputs": [
    {
     "name": "stdout",
     "output_type": "stream",
     "text": [
      "R-Squared Scores : 0.9448968160755719\n"
     ]
    }
   ],
   "source": [
    "#R-squared scores\n",
    "r2_scores = cross_val_score(rf, X_train, y_train, cv=10)\n",
    "print('R-Squared Scores :',np.average(r2_scores))"
   ]
  },
  {
   "cell_type": "markdown",
   "metadata": {},
   "source": [
    "## Model Performance on Test Data"
   ]
  },
  {
   "cell_type": "code",
   "execution_count": 34,
   "metadata": {},
   "outputs": [],
   "source": [
    "#predict the model\n",
    "X_test=test_encoded_attributes\n",
    "rf_pred=rf.predict(X_test)"
   ]
  },
  {
   "cell_type": "markdown",
   "metadata": {},
   "source": [
    "### Root Mean Square Error and Mean Absolute Error Scores\n",
    "Finally, the improved error scores show that this model is in fact performing very well. The error is less than half of the Linear Regression, the second best performer in this analysis."
   ]
  },
  {
   "cell_type": "code",
   "execution_count": 35,
   "metadata": {},
   "outputs": [
    {
     "name": "stdout",
     "output_type": "stream",
     "text": [
      "Root Mean Square Error : 0.46465092060230395\n",
      "Mean Absolute Error : 0.32752847073014685\n"
     ]
    }
   ],
   "source": [
    "#Root mean square error\n",
    "rmse = math.sqrt(metrics.mean_squared_error(y_test,rf_pred))\n",
    "print('Root Mean Square Error :',rmse)\n",
    "#Mean absolute error\n",
    "mae=metrics.mean_absolute_error(y_test,rf_pred)\n",
    "print('Mean Absolute Error :',mae)"
   ]
  },
  {
   "cell_type": "markdown",
   "metadata": {},
   "source": [
    "### Export Prediction Results for Analysis"
   ]
  },
  {
   "cell_type": "code",
   "execution_count": 36,
   "metadata": {},
   "outputs": [],
   "source": [
    "df1=pd.DataFrame(y_test)\n",
    "df2=pd.DataFrame(rf_pred, columns=['Predicted_Usage'])\n",
    "Bike_predictions=pd.merge(df1,df2,left_index=True,right_index=True)\n",
    "Bike_predictions.to_excel('Bike_Renting_Python.xlsx')"
   ]
  },
  {
   "cell_type": "markdown",
   "metadata": {},
   "source": [
    "## Infer Random Forest Coefficients\n",
    "As the Random Forest Regressor was our most powerful model, we want to extract the most valuable coefficients. Random Forests do not natively give this information, so it must be infered from the results."
   ]
  },
  {
   "cell_type": "code",
   "execution_count": 37,
   "metadata": {},
   "outputs": [],
   "source": [
    "prediction, bias, contributions = ti.predict(rf, X_test)\n",
    "#Prediction is the sum of bias and feature contributions"
   ]
  },
  {
   "cell_type": "code",
   "execution_count": 38,
   "metadata": {},
   "outputs": [],
   "source": [
    "rf_coef = np.average(contributions, axis=0)\n",
    "rf_Coefficients = pd.DataFrame(rf_coef, index=X_train.columns, columns=['Coefficient'])"
   ]
  },
  {
   "cell_type": "markdown",
   "metadata": {},
   "source": [
    "## 10 Largest Coefficients\n",
    "This tells us that these 10 coefficients have the strongest effect on the overall number of Count. Unsurprisingly, the Temperature in Celsisus, and then Humidity play the strongest roles, as the weather is a major factor of when people wish to ride a bike."
   ]
  },
  {
   "cell_type": "code",
   "execution_count": 39,
   "metadata": {},
   "outputs": [
    {
     "data": {
      "text/html": [
       "<div>\n",
       "<style scoped>\n",
       "    .dataframe tbody tr th:only-of-type {\n",
       "        vertical-align: middle;\n",
       "    }\n",
       "\n",
       "    .dataframe tbody tr th {\n",
       "        vertical-align: top;\n",
       "    }\n",
       "\n",
       "    .dataframe thead th {\n",
       "        text-align: right;\n",
       "    }\n",
       "</style>\n",
       "<table border=\"1\" class=\"dataframe\">\n",
       "  <thead>\n",
       "    <tr style=\"text-align: right;\">\n",
       "      <th></th>\n",
       "      <th>Coefficient</th>\n",
       "    </tr>\n",
       "  </thead>\n",
       "  <tbody>\n",
       "    <tr>\n",
       "      <th>Temp_Celsius</th>\n",
       "      <td>0.018265</td>\n",
       "    </tr>\n",
       "    <tr>\n",
       "      <th>Humidity</th>\n",
       "      <td>0.013012</td>\n",
       "    </tr>\n",
       "    <tr>\n",
       "      <th>0400</th>\n",
       "      <td>0.012847</td>\n",
       "    </tr>\n",
       "    <tr>\n",
       "      <th>0500</th>\n",
       "      <td>0.008007</td>\n",
       "    </tr>\n",
       "    <tr>\n",
       "      <th>Light_Rain_Snow</th>\n",
       "      <td>0.005777</td>\n",
       "    </tr>\n",
       "    <tr>\n",
       "      <th>2200</th>\n",
       "      <td>0.005500</td>\n",
       "    </tr>\n",
       "    <tr>\n",
       "      <th>Spring</th>\n",
       "      <td>0.003045</td>\n",
       "    </tr>\n",
       "    <tr>\n",
       "      <th>Year_2012</th>\n",
       "      <td>0.002898</td>\n",
       "    </tr>\n",
       "    <tr>\n",
       "      <th>Year_2011</th>\n",
       "      <td>0.002359</td>\n",
       "    </tr>\n",
       "    <tr>\n",
       "      <th>2300</th>\n",
       "      <td>0.001455</td>\n",
       "    </tr>\n",
       "  </tbody>\n",
       "</table>\n",
       "</div>"
      ],
      "text/plain": [
       "                 Coefficient\n",
       "Temp_Celsius        0.018265\n",
       "Humidity            0.013012\n",
       "0400                0.012847\n",
       "0500                0.008007\n",
       "Light_Rain_Snow     0.005777\n",
       "2200                0.005500\n",
       "Spring              0.003045\n",
       "Year_2012           0.002898\n",
       "Year_2011           0.002359\n",
       "2300                0.001455"
      ]
     },
     "execution_count": 39,
     "metadata": {},
     "output_type": "execute_result"
    }
   ],
   "source": [
    "rf_Coefficients.sort_values(['Coefficient'], axis=0, ascending=False).iloc[:10]"
   ]
  }
 ],
 "metadata": {
  "kernelspec": {
   "display_name": "Python 3",
   "language": "python",
   "name": "python3"
  },
  "language_info": {
   "codemirror_mode": {
    "name": "ipython",
    "version": 3
   },
   "file_extension": ".py",
   "mimetype": "text/x-python",
   "name": "python",
   "nbconvert_exporter": "python",
   "pygments_lexer": "ipython3",
   "version": "3.6.5"
  }
 },
 "nbformat": 4,
 "nbformat_minor": 1
}
